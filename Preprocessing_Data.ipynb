{
  "cells": [
    {
      "cell_type": "code",
      "source": [
        "import numpy as np\n",
        "import matplotlib.pyplot as plt\n",
        "import pandas as pd"
      ],
      "metadata": {
        "id": "t3CYbMboYHcb"
      },
      "execution_count": 5,
      "outputs": []
    },
    {
      "cell_type": "code",
      "source": [
        "dataset = pd.read_csv('Data.csv')\n",
        "x = dataset.iloc[:, :-1].values\n",
        "y = dataset.iloc[:, -1].values"
      ],
      "metadata": {
        "id": "Nnw6KKSdZOTr"
      },
      "execution_count": 6,
      "outputs": []
    },
    {
      "cell_type": "code",
      "source": [
        "print(x)"
      ],
      "metadata": {
        "colab": {
          "base_uri": "https://localhost:8080/"
        },
        "id": "TIzgi7yNZrQH",
        "outputId": "4ce45633-839d-49c6-dfe1-d11fddfd7927"
      },
      "execution_count": 7,
      "outputs": [
        {
          "output_type": "stream",
          "name": "stdout",
          "text": [
            "[['Indonesia' 32.0 72000.0]\n",
            " ['Malaysia' 27.0 48000.0]\n",
            " ['Singapore' 30.0 54000.0]\n",
            " ['Malaysia' 38.0 65000.0]\n",
            " ['Singapore' 40.0 nan]\n",
            " ['Indonesia' 35.0 58000.0]\n",
            " ['Malaysia' nan 52000.0]\n",
            " ['Indonesia' 48.0 79000.0]\n",
            " ['Singapore' 50.0 88000.0]\n",
            " ['Indonesia' 37.0 67000.0]]\n"
          ]
        }
      ]
    },
    {
      "cell_type": "code",
      "source": [
        "print(y)"
      ],
      "metadata": {
        "colab": {
          "base_uri": "https://localhost:8080/"
        },
        "id": "ngZSqE0Ra2S6",
        "outputId": "f795b2ca-39cc-483e-831d-7a2c612375f9"
      },
      "execution_count": 8,
      "outputs": [
        {
          "output_type": "stream",
          "name": "stdout",
          "text": [
            "['No' 'Yes' 'No' 'No' 'Yes' 'Yes' 'No' 'Yes' 'No' 'Yes']\n"
          ]
        }
      ]
    },
    {
      "cell_type": "code",
      "source": [
        "from sklearn.impute import SimpleImputer\n",
        "imputer = SimpleImputer(missing_values=np.nan, strategy='mean')\n",
        "imputer.fit(x[:, 1:3])\n",
        "x[:, 1:3] = imputer.transform(x[:, 1:3])\n"
      ],
      "metadata": {
        "id": "6CK_qjygbp-B"
      },
      "execution_count": 9,
      "outputs": []
    },
    {
      "cell_type": "code",
      "source": [
        "print(x)"
      ],
      "metadata": {
        "colab": {
          "base_uri": "https://localhost:8080/"
        },
        "id": "9XfSD14pciYt",
        "outputId": "59dc6ae4-f8dd-4fad-8189-964f4716e345"
      },
      "execution_count": 10,
      "outputs": [
        {
          "output_type": "stream",
          "name": "stdout",
          "text": [
            "[['Indonesia' 32.0 72000.0]\n",
            " ['Malaysia' 27.0 48000.0]\n",
            " ['Singapore' 30.0 54000.0]\n",
            " ['Malaysia' 38.0 65000.0]\n",
            " ['Singapore' 40.0 64777.77777777778]\n",
            " ['Indonesia' 35.0 58000.0]\n",
            " ['Malaysia' 37.44444444444444 52000.0]\n",
            " ['Indonesia' 48.0 79000.0]\n",
            " ['Singapore' 50.0 88000.0]\n",
            " ['Indonesia' 37.0 67000.0]]\n"
          ]
        }
      ]
    },
    {
      "cell_type": "code",
      "source": [
        "from sklearn.compose import ColumnTransformer\n",
        "from sklearn.preprocessing import OneHotEncoder\n",
        "ct = ColumnTransformer(transformers=[('encoder', OneHotEncoder(), [0])], remainder='passthrough')\n",
        "x = np.array(ct.fit_transform(x))"
      ],
      "metadata": {
        "id": "OUXeiQIWc4ZB"
      },
      "execution_count": 14,
      "outputs": []
    },
    {
      "cell_type": "code",
      "source": [
        "print(x)"
      ],
      "metadata": {
        "colab": {
          "base_uri": "https://localhost:8080/"
        },
        "id": "crk2GQOmexJr",
        "outputId": "b6d0c63e-812f-46ef-e771-06a1bac54b0b"
      },
      "execution_count": 15,
      "outputs": [
        {
          "output_type": "stream",
          "name": "stdout",
          "text": [
            "[[1.0 0.0 0.0 32.0 72000.0]\n",
            " [0.0 1.0 0.0 27.0 48000.0]\n",
            " [0.0 0.0 1.0 30.0 54000.0]\n",
            " [0.0 1.0 0.0 38.0 65000.0]\n",
            " [0.0 0.0 1.0 40.0 64777.77777777778]\n",
            " [1.0 0.0 0.0 35.0 58000.0]\n",
            " [0.0 1.0 0.0 37.44444444444444 52000.0]\n",
            " [1.0 0.0 0.0 48.0 79000.0]\n",
            " [0.0 0.0 1.0 50.0 88000.0]\n",
            " [1.0 0.0 0.0 37.0 67000.0]]\n"
          ]
        }
      ]
    },
    {
      "cell_type": "code",
      "source": [
        "from sklearn.preprocessing import LabelEncoder\n",
        "le = LabelEncoder()\n",
        "y = le.fit_transform(y)"
      ],
      "metadata": {
        "id": "tzlFEi3rfGW6"
      },
      "execution_count": 16,
      "outputs": []
    },
    {
      "cell_type": "code",
      "source": [
        "print(y)"
      ],
      "metadata": {
        "colab": {
          "base_uri": "https://localhost:8080/"
        },
        "id": "FYhtpxiDfd6K",
        "outputId": "c23c7ace-82b3-4b9c-8a96-c21195a74f1f"
      },
      "execution_count": 17,
      "outputs": [
        {
          "output_type": "stream",
          "name": "stdout",
          "text": [
            "[0 1 0 0 1 1 0 1 0 1]\n"
          ]
        }
      ]
    },
    {
      "cell_type": "code",
      "source": [
        "from sklearn.model_selection import train_test_split\n",
        "x_train, x_test, y_train, y_test = train_test_split(x, y, test_size=0.2, random_state=1)"
      ],
      "metadata": {
        "id": "clCtu8Jqgo1q"
      },
      "execution_count": 18,
      "outputs": []
    },
    {
      "cell_type": "code",
      "source": [
        "print(x_train)"
      ],
      "metadata": {
        "colab": {
          "base_uri": "https://localhost:8080/"
        },
        "id": "39MhFsRmhQYJ",
        "outputId": "e719261d-cec1-4f83-a53e-d7d24c786b03"
      },
      "execution_count": 19,
      "outputs": [
        {
          "output_type": "stream",
          "name": "stdout",
          "text": [
            "[[0.0 1.0 0.0 37.44444444444444 52000.0]\n",
            " [0.0 0.0 1.0 40.0 64777.77777777778]\n",
            " [1.0 0.0 0.0 32.0 72000.0]\n",
            " [0.0 1.0 0.0 38.0 65000.0]\n",
            " [0.0 1.0 0.0 27.0 48000.0]\n",
            " [1.0 0.0 0.0 48.0 79000.0]\n",
            " [0.0 0.0 1.0 50.0 88000.0]\n",
            " [1.0 0.0 0.0 35.0 58000.0]]\n"
          ]
        }
      ]
    },
    {
      "cell_type": "code",
      "source": [
        "print(x_test)"
      ],
      "metadata": {
        "colab": {
          "base_uri": "https://localhost:8080/"
        },
        "id": "GPePDj0thi5o",
        "outputId": "34b107bf-b02c-4b06-aed6-ca11d4690a90"
      },
      "execution_count": 20,
      "outputs": [
        {
          "output_type": "stream",
          "name": "stdout",
          "text": [
            "[[0.0 0.0 1.0 30.0 54000.0]\n",
            " [1.0 0.0 0.0 37.0 67000.0]]\n"
          ]
        }
      ]
    },
    {
      "cell_type": "code",
      "source": [
        "print(y_train)"
      ],
      "metadata": {
        "colab": {
          "base_uri": "https://localhost:8080/"
        },
        "id": "2Izk2eyzhuyJ",
        "outputId": "9fe3c6ed-ebd0-4221-9fb0-1464820f0caa"
      },
      "execution_count": 21,
      "outputs": [
        {
          "output_type": "stream",
          "name": "stdout",
          "text": [
            "[0 1 0 0 1 1 0 1]\n"
          ]
        }
      ]
    },
    {
      "cell_type": "code",
      "source": [
        "print(y_test)"
      ],
      "metadata": {
        "colab": {
          "base_uri": "https://localhost:8080/"
        },
        "id": "q6XcdpQoh7ot",
        "outputId": "bbd5431e-34be-40b0-a798-3e436f83848f"
      },
      "execution_count": 22,
      "outputs": [
        {
          "output_type": "stream",
          "name": "stdout",
          "text": [
            "[0 1]\n"
          ]
        }
      ]
    },
    {
      "cell_type": "code",
      "source": [
        "from sklearn.preprocessing import StandardScaler\n",
        "sc = StandardScaler()\n",
        "x_train[:, 3:]= sc.fit_transform(x_train[:, 3:])\n",
        "x_test[:, 3:]= sc.transform(x_test[:, 3:])"
      ],
      "metadata": {
        "id": "xzqENBv-ijpg"
      },
      "execution_count": 23,
      "outputs": []
    },
    {
      "cell_type": "code",
      "source": [
        "print(x_train)"
      ],
      "metadata": {
        "colab": {
          "base_uri": "https://localhost:8080/"
        },
        "id": "qEhTIlGJjnyj",
        "outputId": "75ed997d-9251-495d-a099-c26901e8abd1"
      },
      "execution_count": 24,
      "outputs": [
        {
          "output_type": "stream",
          "name": "stdout",
          "text": [
            "[[0.0 1.0 0.0 -0.13727375902237984 -1.0967313724496195]\n",
            " [0.0 0.0 1.0 0.2184779545004064 -0.08470242294746261]\n",
            " [1.0 0.0 0.0 -0.8951795834839672 0.48731393981462573]\n",
            " [0.0 1.0 0.0 -0.059936429995687 -0.06710191947786014]\n",
            " [0.0 1.0 0.0 -1.5912155447242007 -1.4135404349024687]\n",
            " [1.0 0.0 0.0 1.3321354924847801 1.0417297991071115]\n",
            " [0.0 0.0 1.0 1.6105498769808735 1.754550189626022]\n",
            " [1.0 0.0 0.0 -0.4775580067398271 -0.621517778770346]]\n"
          ]
        }
      ]
    },
    {
      "cell_type": "code",
      "source": [
        "print(x_test)"
      ],
      "metadata": {
        "colab": {
          "base_uri": "https://localhost:8080/"
        },
        "id": "Od5GqAcxjx_z",
        "outputId": "c0ece076-74ed-49f2-e2ba-fc7b8d80da02"
      },
      "execution_count": 25,
      "outputs": [
        {
          "output_type": "stream",
          "name": "stdout",
          "text": [
            "[[0.0 0.0 1.0 -1.1735939679800607 -0.9383268412231951]\n",
            " [1.0 0.0 0.0 -0.1991436222437337 0.0913026117485644]]\n"
          ]
        }
      ]
    },
    {
      "cell_type": "markdown",
      "source": [
        "A11201911881 / Bambang Priyanto"
      ],
      "metadata": {
        "id": "pb4CFoHEkevS"
      }
    }
  ],
  "metadata": {
    "colab": {
      "collapsed_sections": [],
      "name": "Preprocessing Data.ipynb",
      "provenance": []
    },
    "kernelspec": {
      "display_name": "Python 3",
      "name": "python3"
    }
  },
  "nbformat": 4,
  "nbformat_minor": 0
}